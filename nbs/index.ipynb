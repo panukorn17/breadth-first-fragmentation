{
 "cells": [
  {
   "cell_type": "markdown",
   "metadata": {},
   "source": [
    "# breadth-first-fragmentation\n",
    "\n",
    "> breadth first fragmentation package"
   ]
  },
  {
   "cell_type": "code",
   "execution_count": null,
   "metadata": {},
   "outputs": [],
   "source": [
    "#| hide\n",
    "import sys\n",
    "if '..' not in sys.path:\n",
    "    sys.path.append('..')"
   ]
  },
  {
   "cell_type": "markdown",
   "metadata": {},
   "source": [
    "## Usage"
   ]
  },
  {
   "cell_type": "markdown",
   "metadata": {},
   "source": [
    "### Installation"
   ]
  },
  {
   "cell_type": "markdown",
   "metadata": {},
   "source": [
    "Install latest from the GitHub [repository][repo]:\n",
    "\n",
    "```sh\n",
    "$ pip install git+https://github.com/panukorn17/breadth-first-fragmentation.git\n",
    "```\n",
    "\n",
    "or from [conda][conda]\n",
    "\n",
    "```sh\n",
    "$ conda install -c panukorn17 breadth_first_fragmentation\n",
    "```\n",
    "\n",
    "or from [pypi][pypi]\n",
    "\n",
    "\n",
    "```sh\n",
    "$ pip install breadth_first_fragmentation\n",
    "```\n",
    "\n",
    "\n",
    "[repo]: https://github.com/panukorn17/breadth-first-fragmentation\n",
    "[docs]: https://panukorn17.github.io/breadth-first-fragmentation/\n",
    "[pypi]: https://pypi.org/project/breadth-first-fragmentation/\n",
    "[conda]: https://anaconda.org/panukorn17/breadth-first-fragmentation"
   ]
  },
  {
   "cell_type": "markdown",
   "metadata": {},
   "source": [
    "### Documentation"
   ]
  },
  {
   "cell_type": "markdown",
   "metadata": {},
   "source": [
    "Documentation can be found hosted on this GitHub [repository][repo]'s [pages][docs]. Additionally you can find package manager specific guidelines on [conda][conda] and [pypi][pypi] respectively.\n",
    "\n",
    "[repo]: https://github.com/panukorn17/breadth-first-fragmentation\n",
    "[docs]: https://panukorn17.github.io/breadth-first-fragmentation/\n",
    "[pypi]: https://pypi.org/project/breadth-first-fragmentation/\n",
    "[conda]: https://anaconda.org/panukorn17/breadth-first-fragmentation"
   ]
  },
  {
   "cell_type": "markdown",
   "metadata": {},
   "source": [
    "## How to use"
   ]
  },
  {
   "cell_type": "code",
   "execution_count": null,
   "metadata": {},
   "outputs": [],
   "source": [
    "from breadth_first_fragmentation.fragmentation import break_into_fragments_defragmo"
   ]
  },
  {
   "cell_type": "code",
   "execution_count": null,
   "metadata": {},
   "outputs": [
    {
     "name": "stdout",
     "output_type": "stream",
     "text": [
      "Head fragment:  *CCC\n",
      "Recurse tail:  N(*)(CCc1cccc(-c2ccccc2)c1)C(=O)C1OC(C(=O)O)=CC(N)C1NC(C)=O\n",
      "Tail:  *CCc1cccc(-c2ccccc2)c1\n",
      "Recurse Head:  N(*)(*)C(=O)C1OC(C(=O)O)=CC(N)C1NC(C)=O\n",
      "Head fragment:  *N(*)*\n",
      "Recurse tail:  C(*)(=O)C1OC(C(=O)O)=CC(N)C1NC(C)=O\n",
      "Head fragment:  *C(*)=O\n",
      "Recurse tail:  C1(*)OC(C(=O)O)=CC(N)C1NC(C)=O\n",
      "Head fragment:  *NC1C(N)C=C(C(=O)O)OC1*\n",
      "Recurse tail:  C(*)(C)=O\n",
      "Final Fragment:  C(*)(C)=O\n"
     ]
    },
    {
     "data": {
      "text/plain": [
       "('CCCN(CCc1cccc(-c2ccccc2)c1)C(=O)C1OC(C(=O)O)=CC(N)C1NC(C)=O',\n",
       " '*CCC *CCc1cccc(-c2ccccc2)c1 *N(*)* *C(*)=O *NC1C(N)C=C(C(=O)O)OC1* C(*)(C)=O',\n",
       " 6)"
      ]
     },
     "execution_count": null,
     "metadata": {},
     "output_type": "execute_result"
    }
   ],
   "source": [
    "smi = 'CCCN(CCc1cccc(-c2ccccc2)c1)C(=O)C1OC(C(=O)O)=CC(N)C1NC(C)=O'\n",
    "break_into_fragments_defragmo(smi, min_length=0, verbose=1)"
   ]
  },
  {
   "cell_type": "markdown",
   "metadata": {},
   "source": [
    "Visual representation of the breadth-first-fragmentation algorithm: </br>\n",
    "<img src=\"images/breadth-first-fragmentation.png\" alt=\"breadth-first-fragmentation\" style=\"width: 450px;\"/>"
   ]
  },
  {
   "cell_type": "code",
   "execution_count": null,
   "metadata": {},
   "outputs": [
    {
     "name": "stdout",
     "output_type": "stream",
     "text": [
      "Head fragment:  *CCC\n",
      "Recurse tail:  N(*)(CCc1cccc(-c2ccccc2)c1)C(=O)C1OC(C(=O)O)=CC(N)C1NC(C)=O\n",
      "Tail:  *CCc1cccc(-c2ccccc2)c1\n",
      "Recurse Head:  N(*)(*)C(=O)C1OC(C(=O)O)=CC(N)C1NC(C)=O\n",
      "Head fragment:  *C(=O)N(*)*\n",
      "Recurse tail:  C1(*)OC(C(=O)O)=CC(N)C1NC(C)=O\n",
      "Head fragment:  *NC1C(N)C=C(C(=O)O)OC1*\n",
      "Recurse tail:  C(*)(C)=O\n",
      "Final Fragment:  C(*)(C)=O\n"
     ]
    },
    {
     "data": {
      "text/plain": [
       "('CCCN(CCc1cccc(-c2ccccc2)c1)C(=O)C1OC(C(=O)O)=CC(N)C1NC(C)=O',\n",
       " '*CCC *CCc1cccc(-c2ccccc2)c1 *C(=O)N(*)* *NC1C(N)C=C(C(=O)O)OC1* C(*)(C)=O',\n",
       " 5)"
      ]
     },
     "execution_count": null,
     "metadata": {},
     "output_type": "execute_result"
    }
   ],
   "source": [
    "smi = 'CCCN(CCc1cccc(-c2ccccc2)c1)C(=O)C1OC(C(=O)O)=CC(N)C1NC(C)=O'\n",
    "break_into_fragments_defragmo(smi, min_length=3, verbose=1)"
   ]
  }
 ],
 "metadata": {
  "kernelspec": {
   "display_name": "python3",
   "language": "python",
   "name": "python3"
  }
 },
 "nbformat": 4,
 "nbformat_minor": 4
}

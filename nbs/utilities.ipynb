{
 "cells": [
  {
   "cell_type": "markdown",
   "metadata": {},
   "source": [
    "# Utilities\n",
    "\n",
    "> Utilities module"
   ]
  },
  {
   "cell_type": "code",
   "execution_count": null,
   "metadata": {},
   "outputs": [],
   "source": [
    "#| default_exp utilities"
   ]
  },
  {
   "cell_type": "code",
   "execution_count": null,
   "metadata": {},
   "outputs": [],
   "source": [
    "#| hide\n",
    "from nbdev.showdoc import *\n",
    "from fastcore.test import test_eq, test_fail"
   ]
  },
  {
   "cell_type": "code",
   "execution_count": null,
   "metadata": {},
   "outputs": [],
   "source": [
    "#| export\n",
    "from rdkit import Chem"
   ]
  },
  {
   "cell_type": "code",
   "execution_count": null,
   "metadata": {},
   "outputs": [],
   "source": [
    "#| export\n",
    "def canonicalize(smi:str, # input molecule\n",
    "                 clear_stereo:bool=False, # if True, clears stereochemistry of the molecule (remove the @@)\n",
    "                 ) -> str: # canonicalised molecule\n",
    "    \"\"\"This function returns the canonicalised smiles representation and has the option to clear stereochemistry\"\"\"\n",
    "    mol = Chem.MolFromSmiles(smi)\n",
    "    if clear_stereo:\n",
    "        Chem.RemoveStereochemistry(mol)\n",
    "    return Chem.MolToSmiles(mol, isomericSmiles=True)"
   ]
  },
  {
   "cell_type": "code",
   "execution_count": null,
   "metadata": {},
   "outputs": [
    {
     "data": {
      "text/markdown": [
       "---\n",
       "\n",
       "[source](https://github.com/panukorn17/breadth-first-fragmentation/blob/main/breadth_first_fragmentation/utilities.py#L12){target=\"_blank\" style=\"float:right; font-size:smaller\"}\n",
       "\n",
       "### canonicalize\n",
       "\n",
       ">      canonicalize (smi:str, clear_stereo:bool=False)\n",
       "\n",
       "*This function returns the canonicalised smiles representation and has the option to clear stereochemistry*\n",
       "\n",
       "|    | **Type** | **Default** | **Details** |\n",
       "| -- | -------- | ----------- | ----------- |\n",
       "| smi | str |  | input molecule |\n",
       "| clear_stereo | bool | False | if True, clears stereochemistry of the molecule (remove the @@) |\n",
       "| **Returns** | **str** |  | **canonicalised molecule** |"
      ],
      "text/plain": [
       "---\n",
       "\n",
       "[source](https://github.com/panukorn17/breadth-first-fragmentation/blob/main/breadth_first_fragmentation/utilities.py#L12){target=\"_blank\" style=\"float:right; font-size:smaller\"}\n",
       "\n",
       "### canonicalize\n",
       "\n",
       ">      canonicalize (smi:str, clear_stereo:bool=False)\n",
       "\n",
       "*This function returns the canonicalised smiles representation and has the option to clear stereochemistry*\n",
       "\n",
       "|    | **Type** | **Default** | **Details** |\n",
       "| -- | -------- | ----------- | ----------- |\n",
       "| smi | str |  | input molecule |\n",
       "| clear_stereo | bool | False | if True, clears stereochemistry of the molecule (remove the @@) |\n",
       "| **Returns** | **str** |  | **canonicalised molecule** |"
      ]
     },
     "execution_count": null,
     "metadata": {},
     "output_type": "execute_result"
    }
   ],
   "source": [
    "show_doc(canonicalize)"
   ]
  },
  {
   "cell_type": "code",
   "execution_count": null,
   "metadata": {},
   "outputs": [
    {
     "data": {
      "text/plain": [
       "'CCCN(CCc1cccc(-c2ccccc2)c1)C(=O)C1OC(C(=O)O)=CC(N)C1NC(C)=O'"
      ]
     },
     "execution_count": null,
     "metadata": {},
     "output_type": "execute_result"
    }
   ],
   "source": [
    "canonicalize('C(CC)N(CCc1cccc(-c2ccccc2)c1)C(=O)C1OC(C(=O)O)=CC(N)C1NC(C)=O')"
   ]
  },
  {
   "cell_type": "markdown",
   "metadata": {},
   "source": [
    "Canonicalizing an already canonicalized molecule"
   ]
  },
  {
   "cell_type": "code",
   "execution_count": null,
   "metadata": {},
   "outputs": [
    {
     "data": {
      "text/plain": [
       "'CCCN(CCc1cccc(-c2ccccc2)c1)C(=O)C1OC(C(=O)O)=CC(N)C1NC(C)=O'"
      ]
     },
     "execution_count": null,
     "metadata": {},
     "output_type": "execute_result"
    }
   ],
   "source": [
    "canonicalize('CCCN(CCc1cccc(-c2ccccc2)c1)C(=O)C1OC(C(=O)O)=CC(N)C1NC(C)=O')"
   ]
  },
  {
   "cell_type": "markdown",
   "metadata": {},
   "source": [
    "Unit Tests"
   ]
  },
  {
   "cell_type": "code",
   "execution_count": null,
   "metadata": {},
   "outputs": [],
   "source": [
    "test_eq(canonicalize('C(CC)N(CCc1cccc(-c2ccccc2)c1)C(=O)C1OC(C(=O)O)=CC(N)C1NC(C)=O'), canonicalize('CCCN(CCc1cccc(-c2ccccc2)c1)C(=O)C1OC(C(=O)O)=CC(N)C1NC(C)=O'))\n",
    "test_fail(canonicalize('CN(CCc1cccc(-c2ccccc2)c1)C(=O)C1OC(C(=O)O)=CC(N)C1NC(C)=O'), 'CCCN(CCc1cccc(-c2ccccc2)c1)C(=O)C1OC(C(=O)O)=CC(N)C1NC(C)=O')"
   ]
  },
  {
   "cell_type": "code",
   "execution_count": null,
   "metadata": {},
   "outputs": [],
   "source": [
    "#| export\n",
    "def mol_from_smiles(smi:str, # Input molecule in SMILES.\n",
    "                    )->Chem.rdchem.Mol: # Output molecule.\n",
    "    \"This function converts a SMILES string to a molecule.\"\n",
    "    return Chem.MolFromSmiles(Chem.CanonSmiles(smi))"
   ]
  },
  {
   "cell_type": "code",
   "execution_count": null,
   "metadata": {},
   "outputs": [
    {
     "data": {
      "text/markdown": [
       "---\n",
       "\n",
       "[source](https://github.com/panukorn17/breadth-first-fragmentation/blob/main/breadth_first_fragmentation/utilities.py#L33){target=\"_blank\" style=\"float:right; font-size:smaller\"}\n",
       "\n",
       "### mol_from_smiles\n",
       "\n",
       ">      mol_from_smiles (smi:str)\n",
       "\n",
       "*This function converts a SMILES string to a molecule.*\n",
       "\n",
       "|    | **Type** | **Details** |\n",
       "| -- | -------- | ----------- |\n",
       "| smi | str | Input molecule in SMILES. |\n",
       "| **Returns** | **Mol** | **Output molecule.** |"
      ],
      "text/plain": [
       "---\n",
       "\n",
       "[source](https://github.com/panukorn17/breadth-first-fragmentation/blob/main/breadth_first_fragmentation/utilities.py#L33){target=\"_blank\" style=\"float:right; font-size:smaller\"}\n",
       "\n",
       "### mol_from_smiles\n",
       "\n",
       ">      mol_from_smiles (smi:str)\n",
       "\n",
       "*This function converts a SMILES string to a molecule.*\n",
       "\n",
       "|    | **Type** | **Details** |\n",
       "| -- | -------- | ----------- |\n",
       "| smi | str | Input molecule in SMILES. |\n",
       "| **Returns** | **Mol** | **Output molecule.** |"
      ]
     },
     "execution_count": null,
     "metadata": {},
     "output_type": "execute_result"
    }
   ],
   "source": [
    "show_doc(mol_from_smiles)"
   ]
  },
  {
   "cell_type": "code",
   "execution_count": null,
   "metadata": {},
   "outputs": [],
   "source": [
    "#| export\n",
    "def mol_to_smiles(mol:Chem.rdchem.Mol, # molecule to convert into SMILES string\n",
    "                  rootedAtAtom:int=None, # SMILES string rooted at the input atom\n",
    "                  ) -> str: # canonicalized SMILES string\n",
    "    \"\"\"This function converts a molecule to a SMILES string.\"\"\"\n",
    "    if rootedAtAtom:\n",
    "        return Chem.MolToSmiles(Chem.MolFromSmiles(canonicalize(Chem.MolToSmiles(mol))), rootedAtAtom=rootedAtAtom)\n",
    "    else:\n",
    "        return canonicalize(Chem.MolToSmiles(mol))\n",
    "    "
   ]
  },
  {
   "cell_type": "code",
   "execution_count": null,
   "metadata": {},
   "outputs": [
    {
     "data": {
      "text/markdown": [
       "---\n",
       "\n",
       "[source](https://github.com/panukorn17/breadth-first-fragmentation/blob/main/breadth_first_fragmentation/utilities.py#L22){target=\"_blank\" style=\"float:right; font-size:smaller\"}\n",
       "\n",
       "### mol_to_smiles\n",
       "\n",
       ">      mol_to_smiles (mol:rdkit.Chem.rdchem.Mol, rootedAtAtom:int=None)\n",
       "\n",
       "*This function converts a molecule to a SMILES string.*\n",
       "\n",
       "|    | **Type** | **Default** | **Details** |\n",
       "| -- | -------- | ----------- | ----------- |\n",
       "| mol | Mol |  | molecule to convert into SMILES string |\n",
       "| rootedAtAtom | int | None | SMILES string rooted at the input atom |\n",
       "| **Returns** | **str** |  | **canonicalized SMILES string** |"
      ],
      "text/plain": [
       "---\n",
       "\n",
       "[source](https://github.com/panukorn17/breadth-first-fragmentation/blob/main/breadth_first_fragmentation/utilities.py#L22){target=\"_blank\" style=\"float:right; font-size:smaller\"}\n",
       "\n",
       "### mol_to_smiles\n",
       "\n",
       ">      mol_to_smiles (mol:rdkit.Chem.rdchem.Mol, rootedAtAtom:int=None)\n",
       "\n",
       "*This function converts a molecule to a SMILES string.*\n",
       "\n",
       "|    | **Type** | **Default** | **Details** |\n",
       "| -- | -------- | ----------- | ----------- |\n",
       "| mol | Mol |  | molecule to convert into SMILES string |\n",
       "| rootedAtAtom | int | None | SMILES string rooted at the input atom |\n",
       "| **Returns** | **str** |  | **canonicalized SMILES string** |"
      ]
     },
     "execution_count": null,
     "metadata": {},
     "output_type": "execute_result"
    }
   ],
   "source": [
    "show_doc(mol_to_smiles)"
   ]
  },
  {
   "cell_type": "code",
   "execution_count": null,
   "metadata": {},
   "outputs": [
    {
     "data": {
      "image/png": "[encoded data removed]",
      "text/plain": [
       "<rdkit.Chem.rdchem.Mol>"
      ]
     },
     "execution_count": null,
     "metadata": {},
     "output_type": "execute_result"
    }
   ],
   "source": [
    "mol = mol_from_smiles('CCCN(CCc1cccc(-c2ccccc2)c1)C(=O)C1OC(C(=O)O)=CC(N)C1NC(C)=O')\n",
    "mol"
   ]
  },
  {
   "cell_type": "code",
   "execution_count": null,
   "metadata": {},
   "outputs": [
    {
     "data": {
      "text/plain": [
       "'CCCN(CCc1cccc(-c2ccccc2)c1)C(=O)C1OC(C(=O)O)=CC(N)C1NC(C)=O'"
      ]
     },
     "execution_count": null,
     "metadata": {},
     "output_type": "execute_result"
    }
   ],
   "source": [
    "mol_to_smiles(mol)"
   ]
  },
  {
   "cell_type": "code",
   "execution_count": null,
   "metadata": {},
   "outputs": [
    {
     "data": {
      "text/plain": [
       "'N(CCC)(CCc1cccc(-c2ccccc2)c1)C(=O)C1OC(C(=O)O)=CC(N)C1NC(C)=O'"
      ]
     },
     "execution_count": null,
     "metadata": {},
     "output_type": "execute_result"
    }
   ],
   "source": [
    "mol_to_smiles(mol, rootedAtAtom=3)"
   ]
  },
  {
   "cell_type": "markdown",
   "metadata": {},
   "source": [
    "Unit Tests"
   ]
  },
  {
   "cell_type": "code",
   "execution_count": null,
   "metadata": {},
   "outputs": [],
   "source": [
    "mol = mol_from_smiles('CCCN(CCc1cccc(-c2ccccc2)c1)C(=O)C1OC(C(=O)O)=CC(N)C1NC(C)=O')\n",
    "test_eq(mol_to_smiles(mol), 'CCCN(CCc1cccc(-c2ccccc2)c1)C(=O)C1OC(C(=O)O)=CC(N)C1NC(C)=O')\n",
    "test_eq(mol_to_smiles(mol, rootedAtAtom=3), 'N(CCC)(CCc1cccc(-c2ccccc2)c1)C(=O)C1OC(C(=O)O)=CC(N)C1NC(C)=O')"
   ]
  },
  {
   "cell_type": "code",
   "execution_count": null,
   "metadata": {},
   "outputs": [],
   "source": [
    "#| export\n",
    "def mols_to_smiles(mols:list[Chem.rdchem.Mol], # Input molecules\n",
    "                   )->list[str]: # Output molecules in SMILES\n",
    "    \"This function converts a list of molecules to a list of SMILES strings.\"\n",
    "    return [mol_to_smiles(mol) for mol in mols]"
   ]
  },
  {
   "cell_type": "code",
   "execution_count": null,
   "metadata": {},
   "outputs": [
    {
     "data": {
      "text/markdown": [
       "---\n",
       "\n",
       "[source](https://github.com/panukorn17/breadth-first-fragmentation/blob/main/breadth_first_fragmentation/utilities.py#L39){target=\"_blank\" style=\"float:right; font-size:smaller\"}\n",
       "\n",
       "### mols_to_smiles\n",
       "\n",
       ">      mols_to_smiles (mols:list[rdkit.Chem.rdchem.Mol])\n",
       "\n",
       "*This function converts a list of molecules to a list of SMILES strings.*\n",
       "\n",
       "|    | **Type** | **Details** |\n",
       "| -- | -------- | ----------- |\n",
       "| mols | list | Input molecules |\n",
       "| **Returns** | **list** | **Output molecules in SMILES** |"
      ],
      "text/plain": [
       "---\n",
       "\n",
       "[source](https://github.com/panukorn17/breadth-first-fragmentation/blob/main/breadth_first_fragmentation/utilities.py#L39){target=\"_blank\" style=\"float:right; font-size:smaller\"}\n",
       "\n",
       "### mols_to_smiles\n",
       "\n",
       ">      mols_to_smiles (mols:list[rdkit.Chem.rdchem.Mol])\n",
       "\n",
       "*This function converts a list of molecules to a list of SMILES strings.*\n",
       "\n",
       "|    | **Type** | **Details** |\n",
       "| -- | -------- | ----------- |\n",
       "| mols | list | Input molecules |\n",
       "| **Returns** | **list** | **Output molecules in SMILES** |"
      ]
     },
     "execution_count": null,
     "metadata": {},
     "output_type": "execute_result"
    }
   ],
   "source": [
    "show_doc(mols_to_smiles)"
   ]
  },
  {
   "cell_type": "code",
   "execution_count": null,
   "metadata": {},
   "outputs": [],
   "source": [
    "#| export\n",
    "def mols_from_smiles(smis, # Input molecules\n",
    "                     )->list[Chem.rdchem.Mol]: # Output molecules.\n",
    "    \"This function converts a list of SMILES strings to a list of molecules.\"\n",
    "    return [mol_from_smiles(smi) for smi in smis]"
   ]
  },
  {
   "cell_type": "code",
   "execution_count": null,
   "metadata": {},
   "outputs": [
    {
     "data": {
      "text/markdown": [
       "---\n",
       "\n",
       "[source](https://github.com/panukorn17/breadth-first-fragmentation/blob/main/breadth_first_fragmentation/utilities.py#L45){target=\"_blank\" style=\"float:right; font-size:smaller\"}\n",
       "\n",
       "### mols_from_smiles\n",
       "\n",
       ">      mols_from_smiles (smis)\n",
       "\n",
       "*This function converts a list of SMILES strings to a list of molecules.*\n",
       "\n",
       "|    | **Type** | **Details** |\n",
       "| -- | -------- | ----------- |\n",
       "| smis |  | Input molecules |\n",
       "| **Returns** | **list** | **Output molecules.** |"
      ],
      "text/plain": [
       "---\n",
       "\n",
       "[source](https://github.com/panukorn17/breadth-first-fragmentation/blob/main/breadth_first_fragmentation/utilities.py#L45){target=\"_blank\" style=\"float:right; font-size:smaller\"}\n",
       "\n",
       "### mols_from_smiles\n",
       "\n",
       ">      mols_from_smiles (smis)\n",
       "\n",
       "*This function converts a list of SMILES strings to a list of molecules.*\n",
       "\n",
       "|    | **Type** | **Details** |\n",
       "| -- | -------- | ----------- |\n",
       "| smis |  | Input molecules |\n",
       "| **Returns** | **list** | **Output molecules.** |"
      ]
     },
     "execution_count": null,
     "metadata": {},
     "output_type": "execute_result"
    }
   ],
   "source": [
    "show_doc(mols_from_smiles)"
   ]
  },
  {
   "cell_type": "code",
   "execution_count": null,
   "metadata": {},
   "outputs": [],
   "source": [
    "#| export\n",
    "def root_smiles(smi:str, # Input molecule in SMILES\n",
    "                rootedAtAtom:int, # SMILES string rooted at the input atom\n",
    "                )->str:\n",
    "    'Root molecule in smiles format at a defined atom'\n",
    "    return Chem.MolToSmiles(mol_from_smiles(smi),rootedAtAtom = rootedAtAtom)"
   ]
  },
  {
   "cell_type": "code",
   "execution_count": null,
   "metadata": {},
   "outputs": [
    {
     "data": {
      "text/markdown": [
       "---\n",
       "\n",
       "[source](https://github.com/panukorn17/breadth-first-fragmentation/blob/main/breadth_first_fragmentation/utilities.py#L51){target=\"_blank\" style=\"float:right; font-size:smaller\"}\n",
       "\n",
       "### root_smiles\n",
       "\n",
       ">      root_smiles (smi:str, rootedAtAtom:int)\n",
       "\n",
       "*Root molecule in smiles format at a defined atom*\n",
       "\n",
       "|    | **Type** | **Details** |\n",
       "| -- | -------- | ----------- |\n",
       "| smi | str | Input molecule in SMILES |\n",
       "| rootedAtAtom | int | SMILES string rooted at the input atom |\n",
       "| **Returns** | **str** |  |"
      ],
      "text/plain": [
       "---\n",
       "\n",
       "[source](https://github.com/panukorn17/breadth-first-fragmentation/blob/main/breadth_first_fragmentation/utilities.py#L51){target=\"_blank\" style=\"float:right; font-size:smaller\"}\n",
       "\n",
       "### root_smiles\n",
       "\n",
       ">      root_smiles (smi:str, rootedAtAtom:int)\n",
       "\n",
       "*Root molecule in smiles format at a defined atom*\n",
       "\n",
       "|    | **Type** | **Details** |\n",
       "| -- | -------- | ----------- |\n",
       "| smi | str | Input molecule in SMILES |\n",
       "| rootedAtAtom | int | SMILES string rooted at the input atom |\n",
       "| **Returns** | **str** |  |"
      ]
     },
     "execution_count": null,
     "metadata": {},
     "output_type": "execute_result"
    }
   ],
   "source": [
    "show_doc(root_smiles)"
   ]
  },
  {
   "cell_type": "code",
   "execution_count": null,
   "metadata": {},
   "outputs": [],
   "source": [
    "#| hide\n",
    "import nbdev; nbdev.nbdev_export()"
   ]
  }
 ],
 "metadata": {
  "kernelspec": {
   "display_name": "python3",
   "language": "python",
   "name": "python3"
  }
 },
 "nbformat": 4,
 "nbformat_minor": 2
}

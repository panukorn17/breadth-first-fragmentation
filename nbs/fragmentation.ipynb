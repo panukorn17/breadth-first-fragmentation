{
 "cells": [
  {
   "cell_type": "markdown",
   "metadata": {},
   "source": [
    "# Fragmentation\n",
    "\n",
    "> Fragmentation module"
   ]
  },
  {
   "cell_type": "code",
   "execution_count": null,
   "metadata": {},
   "outputs": [],
   "source": [
    "#| default_exp fragmentation"
   ]
  },
  {
   "cell_type": "code",
   "execution_count": null,
   "metadata": {},
   "outputs": [],
   "source": [
    "#| hide\n",
    "from nbdev.showdoc import *\n",
    "from fastcore.test import test_eq, test_fail"
   ]
  },
  {
   "cell_type": "code",
   "execution_count": null,
   "metadata": {},
   "outputs": [],
   "source": [
    "#| export\n",
    "import sys\n",
    "if '..' not in sys.path:\n",
    "    sys.path.append('..')\n",
    "import numpy as np\n",
    "from rdkit import Chem\n",
    "from copy import deepcopy\n",
    "from rdkit.Chem import BRICS\n",
    "from breadth_first_fragmentation.utilities import mol_from_smiles, mols_from_smiles, mol_to_smiles, root_smiles"
   ]
  },
  {
   "cell_type": "code",
   "execution_count": null,
   "metadata": {},
   "outputs": [],
   "source": [
    "#| export\n",
    "def count_dummies(mol:Chem.rdchem.Mol, # input molecule\n",
    "                  )->int: # count of dummy atoms\n",
    "    'Function to count dummy atoms.'\n",
    "    count = 0\n",
    "    for atom in mol.GetAtoms():\n",
    "        if atom.GetAtomicNum() == 0:\n",
    "            count += 1\n",
    "    return count"
   ]
  },
  {
   "cell_type": "code",
   "execution_count": null,
   "metadata": {},
   "outputs": [
    {
     "data": {
      "text/markdown": [
       "---\n",
       "\n",
       "[source](https://github.com/panukorn17/breadth-first-fragmentation/blob/main/breadth_first_fragmentation/fragmentation.py#L20){target=\"_blank\" style=\"float:right; font-size:smaller\"}\n",
       "\n",
       "### count_dummies\n",
       "\n",
       ">      count_dummies (mol:rdkit.Chem.rdchem.Mol)\n",
       "\n",
       "*Function to count dummy atoms.*\n",
       "\n",
       "|    | **Type** | **Details** |\n",
       "| -- | -------- | ----------- |\n",
       "| mol | Mol | input molecule |\n",
       "| **Returns** | **int** | **count of dummy atoms** |"
      ],
      "text/plain": [
       "---\n",
       "\n",
       "[source](https://github.com/panukorn17/breadth-first-fragmentation/blob/main/breadth_first_fragmentation/fragmentation.py#L20){target=\"_blank\" style=\"float:right; font-size:smaller\"}\n",
       "\n",
       "### count_dummies\n",
       "\n",
       ">      count_dummies (mol:rdkit.Chem.rdchem.Mol)\n",
       "\n",
       "*Function to count dummy atoms.*\n",
       "\n",
       "|    | **Type** | **Details** |\n",
       "| -- | -------- | ----------- |\n",
       "| mol | Mol | input molecule |\n",
       "| **Returns** | **int** | **count of dummy atoms** |"
      ]
     },
     "execution_count": null,
     "metadata": {},
     "output_type": "execute_result"
    }
   ],
   "source": [
    "show_doc(count_dummies)"
   ]
  },
  {
   "cell_type": "code",
   "execution_count": null,
   "metadata": {},
   "outputs": [
    {
     "name": "stdout",
     "output_type": "stream",
     "text": [
      "1\n"
     ]
    }
   ],
   "source": [
    "frag = '*c1c(C)cccc1C'\n",
    "print(count_dummies(mol_from_smiles(frag)))"
   ]
  },
  {
   "cell_type": "code",
   "execution_count": null,
   "metadata": {},
   "outputs": [
    {
     "name": "stdout",
     "output_type": "stream",
     "text": [
      "2\n"
     ]
    }
   ],
   "source": [
    "frag = '*NC(*)C'\n",
    "print(count_dummies(mol_from_smiles(frag)))"
   ]
  },
  {
   "cell_type": "markdown",
   "metadata": {},
   "source": [
    "Unit Tests"
   ]
  },
  {
   "cell_type": "code",
   "execution_count": null,
   "metadata": {},
   "outputs": [],
   "source": [
    "test_eq(count_dummies(mol_from_smiles('Cc1cccc(C)c1NC(=O)C[NH+]1CCC(OCc2ccc(F)cc2)CC1')),0)\n",
    "test_eq(count_dummies(mol_from_smiles('*c1c(C)cccc1C')),1)\n",
    "test_eq(count_dummies(mol_from_smiles('*NC(*)C')),2)"
   ]
  },
  {
   "cell_type": "code",
   "execution_count": null,
   "metadata": {},
   "outputs": [],
   "source": [
    "#| export\n",
    "def get_size(frag:Chem.rdchem.Mol, # input fragment\n",
    "             )->int: # count of real atoms\n",
    "    'Function to count real atoms.'\n",
    "    dummies = count_dummies(frag)\n",
    "    total_atoms = frag.GetNumAtoms()\n",
    "    real_atoms = total_atoms - dummies\n",
    "    return real_atoms"
   ]
  },
  {
   "cell_type": "code",
   "execution_count": null,
   "metadata": {},
   "outputs": [
    {
     "data": {
      "text/markdown": [
       "---\n",
       "\n",
       "[source](https://github.com/panukorn17/breadth-first-fragmentation/blob/main/breadth_first_fragmentation/fragmentation.py#L30){target=\"_blank\" style=\"float:right; font-size:smaller\"}\n",
       "\n",
       "### get_size\n",
       "\n",
       ">      get_size (frag:rdkit.Chem.rdchem.Mol)\n",
       "\n",
       "*Function to count real atoms.*\n",
       "\n",
       "|    | **Type** | **Details** |\n",
       "| -- | -------- | ----------- |\n",
       "| frag | Mol | input fragment |\n",
       "| **Returns** | **int** | **count of real atoms** |"
      ],
      "text/plain": [
       "---\n",
       "\n",
       "[source](https://github.com/panukorn17/breadth-first-fragmentation/blob/main/breadth_first_fragmentation/fragmentation.py#L30){target=\"_blank\" style=\"float:right; font-size:smaller\"}\n",
       "\n",
       "### get_size\n",
       "\n",
       ">      get_size (frag:rdkit.Chem.rdchem.Mol)\n",
       "\n",
       "*Function to count real atoms.*\n",
       "\n",
       "|    | **Type** | **Details** |\n",
       "| -- | -------- | ----------- |\n",
       "| frag | Mol | input fragment |\n",
       "| **Returns** | **int** | **count of real atoms** |"
      ]
     },
     "execution_count": null,
     "metadata": {},
     "output_type": "execute_result"
    }
   ],
   "source": [
    "show_doc(get_size)"
   ]
  },
  {
   "cell_type": "code",
   "execution_count": null,
   "metadata": {},
   "outputs": [
    {
     "name": "stdout",
     "output_type": "stream",
     "text": [
      "8\n"
     ]
    }
   ],
   "source": [
    "frag = '*c1c(C)cccc1C'\n",
    "print(get_size(mol_from_smiles(frag)))"
   ]
  },
  {
   "cell_type": "code",
   "execution_count": null,
   "metadata": {},
   "outputs": [
    {
     "name": "stdout",
     "output_type": "stream",
     "text": [
      "3\n"
     ]
    }
   ],
   "source": [
    "frag = '*NC(*)C'\n",
    "print(get_size(mol_from_smiles(frag)))"
   ]
  },
  {
   "cell_type": "code",
   "execution_count": null,
   "metadata": {},
   "outputs": [
    {
     "name": "stdout",
     "output_type": "stream",
     "text": [
      "27\n"
     ]
    }
   ],
   "source": [
    "smi = 'Cc1cccc(C)c1NC(=O)C[NH+]1CCC(OCc2ccc(F)cc2)CC1'\n",
    "print(get_size(mol_from_smiles(smi)))"
   ]
  },
  {
   "cell_type": "markdown",
   "metadata": {},
   "source": [
    "Unit Tests"
   ]
  },
  {
   "cell_type": "code",
   "execution_count": null,
   "metadata": {},
   "outputs": [],
   "source": [
    "test_eq(get_size(mol_from_smiles('*c1c(C)cccc1C')),8)\n",
    "test_eq(get_size(mol_from_smiles('*NC(*)C')),3)\n",
    "test_eq(get_size(mol_from_smiles('Cc1cccc(C)c1NC(=O)C[NH+]1CCC(OCc2ccc(F)cc2)CC1')),27)\n"
   ]
  },
  {
   "cell_type": "code",
   "execution_count": null,
   "metadata": {},
   "outputs": [],
   "source": [
    "#| export\n",
    "def replace_last(s:str, # the string (fragment) to which the dummy label * is to be replaced with another fragment\n",
    "                 old:str, # the string from the fragment s to be replaced\n",
    "                 new:str, # the string to replace the 'old' string in the fragment s\n",
    "                 )->str: # the original string s with the replacement\n",
    "    'Function to replace the last occuring dummy label with a fragment.'\n",
    "    s_reversed = s[::-1]\n",
    "    old_reversed = old[::-1]\n",
    "    new_reversed = new[::-1]\n",
    "\n",
    "    # Replace the first occurrence in the reversed string\n",
    "    s_reversed = s_reversed.replace(old_reversed, new_reversed, 1)\n",
    "\n",
    "    # Reverse the string back to original order\n",
    "    return s_reversed[::-1]"
   ]
  },
  {
   "cell_type": "code",
   "execution_count": null,
   "metadata": {},
   "outputs": [
    {
     "data": {
      "text/markdown": [
       "---\n",
       "\n",
       "[source](https://github.com/panukorn17/breadth-first-fragmentation/blob/main/breadth_first_fragmentation/fragmentation.py#L39){target=\"_blank\" style=\"float:right; font-size:smaller\"}\n",
       "\n",
       "### replace_last\n",
       "\n",
       ">      replace_last (s:str, old:str, new:str)\n",
       "\n",
       "*Function to replace the last occuring dummy label with a fragment.*\n",
       "\n",
       "|    | **Type** | **Details** |\n",
       "| -- | -------- | ----------- |\n",
       "| s | str | the string (fragment) to which the dummy label * is to be replaced with another fragment |\n",
       "| old | str | the string from the fragment s to be replaced |\n",
       "| new | str | the string to replace the 'old' string in the fragment s |\n",
       "| **Returns** | **str** | **the original string s with the replacement** |"
      ],
      "text/plain": [
       "---\n",
       "\n",
       "[source](https://github.com/panukorn17/breadth-first-fragmentation/blob/main/breadth_first_fragmentation/fragmentation.py#L39){target=\"_blank\" style=\"float:right; font-size:smaller\"}\n",
       "\n",
       "### replace_last\n",
       "\n",
       ">      replace_last (s:str, old:str, new:str)\n",
       "\n",
       "*Function to replace the last occuring dummy label with a fragment.*\n",
       "\n",
       "|    | **Type** | **Details** |\n",
       "| -- | -------- | ----------- |\n",
       "| s | str | the string (fragment) to which the dummy label * is to be replaced with another fragment |\n",
       "| old | str | the string from the fragment s to be replaced |\n",
       "| new | str | the string to replace the 'old' string in the fragment s |\n",
       "| **Returns** | **str** | **the original string s with the replacement** |"
      ]
     },
     "execution_count": null,
     "metadata": {},
     "output_type": "execute_result"
    }
   ],
   "source": [
    "show_doc(replace_last)"
   ]
  },
  {
   "cell_type": "code",
   "execution_count": null,
   "metadata": {},
   "outputs": [
    {
     "name": "stdout",
     "output_type": "stream",
     "text": [
      "N(c1c(C)cccc1C)C(=O)C[NH+]1CCC(OCc2ccc(F)cc2)CC1\n"
     ]
    }
   ],
   "source": [
    "s = 'N(*)C(=O)C[NH+]1CCC(OCc2ccc(F)cc2)CC1'\n",
    "old = '*'\n",
    "new = 'c1c(C)cccc1C'\n",
    "print(replace_last(s, old, new))"
   ]
  },
  {
   "cell_type": "code",
   "execution_count": null,
   "metadata": {},
   "outputs": [
    {
     "name": "stdout",
     "output_type": "stream",
     "text": [
      "C(N*)(=O)C[NH+]1CCC(OCc2ccc(F)cc2)CC1\n"
     ]
    }
   ],
   "source": [
    "s = 'C(*)(=O)C[NH+]1CCC(OCc2ccc(F)cc2)CC1'\n",
    "old = '*'\n",
    "new = 'N*'\n",
    "print(replace_last(s, old, new))"
   ]
  },
  {
   "cell_type": "markdown",
   "metadata": {},
   "source": [
    "Unit Tests"
   ]
  },
  {
   "cell_type": "code",
   "execution_count": null,
   "metadata": {},
   "outputs": [],
   "source": [
    "test_eq(replace_last('N(*)C(=O)C[NH+]1CCC(OCc2ccc(F)cc2)CC1', '*', 'c1c(C)cccc1C'), 'N(c1c(C)cccc1C)C(=O)C[NH+]1CCC(OCc2ccc(F)cc2)CC1')\n",
    "test_eq(replace_last('C(*)(=O)C[NH+]1CCC(OCc2ccc(F)cc2)CC1', '*', 'N*'), 'C(N*)(=O)C[NH+]1CCC(OCc2ccc(F)cc2)CC1')"
   ]
  },
  {
   "cell_type": "code",
   "execution_count": null,
   "metadata": {},
   "outputs": [],
   "source": [
    "#| export\n",
    "def check_reconstruction(frags:list[str], # list of fragments in SMILES format\n",
    "                         frag_1:str, # head/tail fragment in SMILES format\n",
    "                         frag_2:str, # head/tail fragment in SMILES format\n",
    "                         orig_smi, # original molecule in SMILES format\n",
    "                         )->bool: # whether the original molecule was reconstructed\n",
    "    'Function to test whether the original molecule has been reconstructed.'\n",
    "    try:\n",
    "        frags_test = frags.copy()\n",
    "        frags_test.append(frag_1)\n",
    "        frags_test.append(frag_2)\n",
    "        frag_2_re = frags_test[-1]\n",
    "        for i in range(len(frags_test)-1):\n",
    "            frag_1_re = frags_test[-1*i-2]\n",
    "            recomb = replace_last(frag_2_re, '*', frag_1_re.replace('*', '',1))\n",
    "            recomb_canon = root_smiles(recomb, rootedAtAtom = 1)\n",
    "            frag_2_re = recomb_canon\n",
    "        orig_smi_canon = root_smiles(orig_smi, rootedAtAtom = 1)\n",
    "        if recomb_canon == orig_smi_canon:\n",
    "            return True\n",
    "        else:\n",
    "            return False\n",
    "    except:\n",
    "        return False"
   ]
  },
  {
   "cell_type": "code",
   "execution_count": null,
   "metadata": {},
   "outputs": [
    {
     "data": {
      "text/markdown": [
       "---\n",
       "\n",
       "[source](https://github.com/panukorn17/breadth-first-fragmentation/blob/main/breadth_first_fragmentation/fragmentation.py#L55){target=\"_blank\" style=\"float:right; font-size:smaller\"}\n",
       "\n",
       "### check_reconstruction\n",
       "\n",
       ">      check_reconstruction (frags:list[str], frag_1:str, frag_2:str, orig_smi)\n",
       "\n",
       "*Function to test whether the original molecule has been reconstructed.*\n",
       "\n",
       "|    | **Type** | **Details** |\n",
       "| -- | -------- | ----------- |\n",
       "| frags | list | list of fragments in SMILES format |\n",
       "| frag_1 | str | head/tail fragment in SMILES format |\n",
       "| frag_2 | str | head/tail fragment in SMILES format |\n",
       "| orig_smi |  | original molecule in SMILES format |\n",
       "| **Returns** | **bool** | **whether the original molecule was reconstructed** |"
      ],
      "text/plain": [
       "---\n",
       "\n",
       "[source](https://github.com/panukorn17/breadth-first-fragmentation/blob/main/breadth_first_fragmentation/fragmentation.py#L55){target=\"_blank\" style=\"float:right; font-size:smaller\"}\n",
       "\n",
       "### check_reconstruction\n",
       "\n",
       ">      check_reconstruction (frags:list[str], frag_1:str, frag_2:str, orig_smi)\n",
       "\n",
       "*Function to test whether the original molecule has been reconstructed.*\n",
       "\n",
       "|    | **Type** | **Details** |\n",
       "| -- | -------- | ----------- |\n",
       "| frags | list | list of fragments in SMILES format |\n",
       "| frag_1 | str | head/tail fragment in SMILES format |\n",
       "| frag_2 | str | head/tail fragment in SMILES format |\n",
       "| orig_smi |  | original molecule in SMILES format |\n",
       "| **Returns** | **bool** | **whether the original molecule was reconstructed** |"
      ]
     },
     "execution_count": null,
     "metadata": {},
     "output_type": "execute_result"
    }
   ],
   "source": [
    "show_doc(check_reconstruction)"
   ]
  },
  {
   "cell_type": "code",
   "execution_count": null,
   "metadata": {},
   "outputs": [
    {
     "name": "stdout",
     "output_type": "stream",
     "text": [
      "True\n"
     ]
    }
   ],
   "source": [
    "frags = []\n",
    "frag_1 = '*CCC'\n",
    "frag_2 = 'N(*)(CCc1cccc(-c2ccccc2)c1)C(=O)C1OC(C(=O)O)=CC(N)C1NC(C)=O'\n",
    "orig_smi = 'CCCN(CCc1cccc(-c2ccccc2)c1)C(=O)C1OC(C(=O)O)=CC(N)C1NC(C)=O'\n",
    "print(check_reconstruction(frags, frag_1, frag_2, orig_smi))"
   ]
  },
  {
   "cell_type": "code",
   "execution_count": null,
   "metadata": {},
   "outputs": [
    {
     "name": "stdout",
     "output_type": "stream",
     "text": [
      "True\n"
     ]
    }
   ],
   "source": [
    "frags = ['*c1c(C)cccc1C', '*N*', '*CC(*)=O']\n",
    "frag_1 = '*C1CC[NH+](*)CC1'\n",
    "frag_2 = 'O(*)Cc1ccc(F)cc1'\n",
    "orig_smi = 'Cc1cccc(C)c1NC(=O)C[NH+]1CCC(OCc2ccc(F)cc2)CC1'\n",
    "print(check_reconstruction(frags, frag_1, frag_2, orig_smi))"
   ]
  },
  {
   "cell_type": "markdown",
   "metadata": {},
   "source": [
    "Unit Tests"
   ]
  },
  {
   "cell_type": "code",
   "execution_count": null,
   "metadata": {},
   "outputs": [],
   "source": [
    "test_eq(check_reconstruction([], '*CCC', 'N(*)(CCc1cccc(-c2ccccc2)c1)C(=O)C1OC(C(=O)O)=CC(N)C1NC(C)=O', 'CCCN(CCc1cccc(-c2ccccc2)c1)C(=O)C1OC(C(=O)O)=CC(N)C1NC(C)=O'), True)\n",
    "test_eq(check_reconstruction(['*c1c(C)cccc1C', '*N*', '*CC(*)=O'], '*C1CC[NH+](*)CC1', 'O(*)Cc1ccc(F)cc1', 'Cc1cccc(C)c1NC(=O)C[NH+]1CCC(OCc2ccc(F)cc2)CC1'), True)\n",
    "test_fail(check_reconstruction([], '*CCC', 'N(*)(CCc1cccc(-c2ccccc2)c1)C(=O)C1OC(C(=O)O)=CC(N)C1NC(C)=O', 'C(CCc1cccc(-c2ccccc2)c1)C(=O)C1OC(C(=O)O)=CC(N)C1NC(C)=O'))"
   ]
  },
  {
   "cell_type": "code",
   "execution_count": null,
   "metadata": {},
   "outputs": [],
   "source": [
    "#| export\n",
    "def check_bond_no(bonds:list, # the list of BRIC bonds locations\n",
    "                  frags:list, # the list of fragments\n",
    "                  frag_list_len:int, # the length of the fragment list\n",
    "                  smi:str, # the smiles string of the molecule\n",
    "                  verbose:int=0, # print fragmentation process, set verbose to 1\n",
    "                  )->tuple: # a tuple containing the fragment list and a boolean value to indicate whether fragmentation is complete\n",
    "    'This function checks if the molecule has less bonds than the limit of BRIC bonds.'\n",
    "    if (len(bonds) <= frag_list_len):\n",
    "        if verbose == 1:\n",
    "            print('Final Fragment: ', smi)\n",
    "        frags.append(root_smiles(smi, rootedAtAtom=1))\n",
    "        fragComplete = True\n",
    "        return frags, fragComplete\n",
    "    else:\n",
    "        fragComplete = False\n",
    "        return frags, fragComplete"
   ]
  },
  {
   "cell_type": "code",
   "execution_count": null,
   "metadata": {},
   "outputs": [
    {
     "data": {
      "text/markdown": [
       "---\n",
       "\n",
       "[source](https://github.com/panukorn17/breadth-first-fragmentation/blob/main/breadth_first_fragmentation/fragmentation.py#L80){target=\"_blank\" style=\"float:right; font-size:smaller\"}\n",
       "\n",
       "### check_bond_no\n",
       "\n",
       ">      check_bond_no (bonds:list, frags:list, frag_list_len:int, smi:str,\n",
       ">                     verbose:int=0)\n",
       "\n",
       "*This function checks if the molecule has less bonds than the limit of BRIC bonds.*\n",
       "\n",
       "|    | **Type** | **Default** | **Details** |\n",
       "| -- | -------- | ----------- | ----------- |\n",
       "| bonds | list |  | the list of BRIC bonds locations |\n",
       "| frags | list |  | the list of fragments |\n",
       "| frag_list_len | int |  | the length of the fragment list |\n",
       "| smi | str |  | the smiles string of the molecule |\n",
       "| verbose | int | 0 | print fragmentation process, set verbose to 1 |\n",
       "| **Returns** | **tuple** |  | **a tuple containing the fragment list and a boolean value to indicate whether fragmentation is complete** |"
      ],
      "text/plain": [
       "---\n",
       "\n",
       "[source](https://github.com/panukorn17/breadth-first-fragmentation/blob/main/breadth_first_fragmentation/fragmentation.py#L80){target=\"_blank\" style=\"float:right; font-size:smaller\"}\n",
       "\n",
       "### check_bond_no\n",
       "\n",
       ">      check_bond_no (bonds:list, frags:list, frag_list_len:int, smi:str,\n",
       ">                     verbose:int=0)\n",
       "\n",
       "*This function checks if the molecule has less bonds than the limit of BRIC bonds.*\n",
       "\n",
       "|    | **Type** | **Default** | **Details** |\n",
       "| -- | -------- | ----------- | ----------- |\n",
       "| bonds | list |  | the list of BRIC bonds locations |\n",
       "| frags | list |  | the list of fragments |\n",
       "| frag_list_len | int |  | the length of the fragment list |\n",
       "| smi | str |  | the smiles string of the molecule |\n",
       "| verbose | int | 0 | print fragmentation process, set verbose to 1 |\n",
       "| **Returns** | **tuple** |  | **a tuple containing the fragment list and a boolean value to indicate whether fragmentation is complete** |"
      ]
     },
     "execution_count": null,
     "metadata": {},
     "output_type": "execute_result"
    }
   ],
   "source": [
    "show_doc(check_bond_no)"
   ]
  },
  {
   "cell_type": "code",
   "execution_count": null,
   "metadata": {},
   "outputs": [
    {
     "name": "stdout",
     "output_type": "stream",
     "text": [
      "(['*c1c(C)cccc1C', '*N*', '*CC(*)=O', '*C1CC[NH+](*)CC1', '*O*', '*C*', 'c1(*)ccc(F)cc1', 'c1(*)ccc(F)cc1'], True)\n"
     ]
    }
   ],
   "source": [
    "bonds = []\n",
    "frags = ['*c1c(C)cccc1C', '*N*', '*CC(*)=O', '*C1CC[NH+](*)CC1', '*O*', '*C*', 'c1(*)ccc(F)cc1']\n",
    "frags_list_len = 0\n",
    "smi = 'c1(*)ccc(F)cc1'\n",
    "print(check_bond_no(bonds, frags, frags_list_len, smi))"
   ]
  },
  {
   "cell_type": "code",
   "execution_count": null,
   "metadata": {},
   "outputs": [
    {
     "name": "stdout",
     "output_type": "stream",
     "text": [
      "([], False)\n"
     ]
    }
   ],
   "source": [
    "bonds = [((9, 8), ('1', '5')), ((16, 17), ('3', '4')), ((16, 15), ('3', '15')), ((11, 12), ('4', '5')), ((8, 7), ('5', '16')), ((17, 18), ('8', '16'))]\n",
    "frags = []\n",
    "frags_list_len = 0\n",
    "smi = 'Cc1cccc(C)c1NC(=O)C[NH+]1CCC(OCc2ccc(F)cc2)CC1'\n",
    "print(check_bond_no(bonds, frags, frags_list_len, smi))"
   ]
  },
  {
   "cell_type": "markdown",
   "metadata": {},
   "source": [
    "Unit Tests"
   ]
  },
  {
   "cell_type": "code",
   "execution_count": null,
   "metadata": {},
   "outputs": [],
   "source": [
    "test_eq(check_bond_no([], ['*c1c(C)cccc1C', '*N*', '*CC(*)=O', '*C1CC[NH+](*)CC1', '*O*', '*C*', 'c1(*)ccc(F)cc1'], 0, 'c1(*)ccc(F)cc1'),(['*c1c(C)cccc1C', '*N*', '*CC(*)=O', '*C1CC[NH+](*)CC1', '*O*', '*C*', 'c1(*)ccc(F)cc1', 'c1(*)ccc(F)cc1'], True))\n",
    "test_eq(check_bond_no([((9, 8), ('1', '5')), ((16, 17), ('3', '4')), ((16, 15), ('3', '15')), ((11, 12), ('4', '5')), ((8, 7), ('5', '16')), ((17, 18), ('8', '16'))], [], 0, 'c1(*)ccc(F)cc1'),([], False))"
   ]
  },
  {
   "cell_type": "code",
   "execution_count": null,
   "metadata": {},
   "outputs": [],
   "source": [
    "#| export\n",
    "def fragment_recursive(mol_smi_orig:str, # the original smiles string of the molecule\n",
    "                       mol_smi:str, # the smiles string of the molecule\n",
    "                       frags:list, # the list of fragments\n",
    "                       counter:int, # the counter for the recursion\n",
    "                       frag_list_len:int, # the length of the fragment list\n",
    "                       min_length:int=0, # the minimum number of atoms in a fragment\n",
    "                       verbose:int=0, # print fragmentation process, set verbose to 1\n",
    "                       )->list: # the list of fragments\n",
    "    'This recursive function fragments a molecule using the DEFRAGMO fragmentation method.'\n",
    "    fragComplete = False\n",
    "    try:\n",
    "        counter += 1\n",
    "        mol = mol_from_smiles(mol_smi)\n",
    "        bonds = list(BRICS.FindBRICSBonds(mol))\n",
    "\n",
    "        # Check if the mol has less bonds than the limit of BRIC bonds\n",
    "        frags, fragComplete = check_bond_no(bonds, frags, frag_list_len, mol_smi, verbose)\n",
    "        if fragComplete:\n",
    "            return frags\n",
    "\n",
    "        idxs, labs = list(zip(*bonds))\n",
    "\n",
    "        bond_idxs = []\n",
    "        for a1, a2 in idxs:\n",
    "            bond = mol.GetBondBetweenAtoms(a1, a2)\n",
    "            bond_idxs.append(bond.GetIdx())\n",
    "\n",
    "        order = np.argsort(bond_idxs).tolist()\n",
    "        bond_idxs = [bond_idxs[i] for i in order]\n",
    "        for bond in bond_idxs:\n",
    "            broken = Chem.FragmentOnBonds(mol,\n",
    "                                        bondIndices=[bond],\n",
    "                                        dummyLabels=[(0, 0)])\n",
    "            head, tail = Chem.GetMolFrags(broken, asMols=True)\n",
    "            head_bric_bond_no = len(list(BRICS.FindBRICSBonds(head)))\n",
    "            tail_bric_bond_no = len(list(BRICS.FindBRICSBonds(tail)))\n",
    "            \n",
    "            if head_bric_bond_no <= frag_list_len:\n",
    "                head_smi = mol_to_smiles(head)\n",
    "                tail_smi = mol_to_smiles(tail, rootedAtAtom=1)\n",
    "                if check_reconstruction(frags, head_smi, tail_smi, mol_smi_orig) & (get_size(head) >= min_length):\n",
    "                    if verbose == 1:\n",
    "                        print('Head fragment: ', head_smi)\n",
    "                        print('Recurse tail: ', tail_smi)\n",
    "                    frags.append(head_smi)\n",
    "                    fragComplete = fragment_recursive(mol_smi_orig, tail_smi, frags, counter, frag_list_len = 0, min_length=min_length, verbose=verbose)  \n",
    "                    if fragComplete:\n",
    "                        return frags\n",
    "                # if reconstruction fails, and there is only one bond, then add the fragment to the fragment list\n",
    "                elif (len(bond_idxs) == 1) & (get_size(mol_from_smiles(mol_smi)) >= min_length):\n",
    "                    if verbose == 1:\n",
    "                        print('Final Fragment: ', mol_smi)\n",
    "                    frags.append(root_smiles(mol_smi, rootedAtAtom=1))\n",
    "                    fragComplete = True\n",
    "                    return frags\n",
    "                elif bond == bond_idxs[-1]:\n",
    "                    fragComplete = fragment_recursive(mol_smi_orig, root_smiles(mol_smi, rootedAtAtom=1), frags, counter, frag_list_len + 1, min_length=min_length, verbose=verbose)\n",
    "                    if fragComplete:\n",
    "                        return frags\n",
    "            elif tail_bric_bond_no <= frag_list_len:\n",
    "                tail_smi = mol_to_smiles(tail)\n",
    "                head_smi = mol_to_smiles(head, rootedAtAtom=1)\n",
    "                if check_reconstruction(frags, tail_smi, head_smi, mol_smi_orig) & (get_size(tail) >= min_length):\n",
    "                    if verbose == 1:\n",
    "                        print('Tail: ', tail_smi)\n",
    "                        print('Recurse Head: ', head_smi)\n",
    "                    frags.append(tail_smi)\n",
    "                    fragComplete = fragment_recursive(mol_smi_orig, head_smi, frags, counter, frag_list_len = 0, min_length=min_length, verbose=verbose)  \n",
    "                    if fragComplete:\n",
    "                        return frags\n",
    "                elif (len(bond_idxs) == 1) & (get_size(mol_from_smiles(mol_smi)) >= min_length):\n",
    "                    if verbose == 1:\n",
    "                        print('Final fragment: ', mol_smi)\n",
    "                    frags.append(root_smiles(mol_smi, rootedAtAtom=1))\n",
    "                    fragComplete = True\n",
    "                    return frags\n",
    "                elif bond == bond_idxs[-1]:\n",
    "                    fragComplete = fragment_recursive(mol_smi_orig, root_smiles(mol_smi, rootedAtAtom=1), frags, counter, frag_list_len + 1, min_length=min_length, verbose=verbose)\n",
    "                    if fragComplete:\n",
    "                        return frags\n",
    "    except Exception:\n",
    "        pass"
   ]
  },
  {
   "cell_type": "code",
   "execution_count": null,
   "metadata": {},
   "outputs": [
    {
     "data": {
      "text/markdown": [
       "---\n",
       "\n",
       "[source](https://github.com/panukorn17/breadth-first-fragmentation/blob/main/breadth_first_fragmentation/fragmentation.py#L98){target=\"_blank\" style=\"float:right; font-size:smaller\"}\n",
       "\n",
       "### fragment_recursive\n",
       "\n",
       ">      fragment_recursive (mol_smi_orig:str, mol_smi:str, frags:list,\n",
       ">                          counter:int, frag_list_len:int, min_length:int=0,\n",
       ">                          verbose:int=0)\n",
       "\n",
       "*This recursive function fragments a molecule using the DEFRAGMO fragmentation method.*\n",
       "\n",
       "|    | **Type** | **Default** | **Details** |\n",
       "| -- | -------- | ----------- | ----------- |\n",
       "| mol_smi_orig | str |  | the original smiles string of the molecule |\n",
       "| mol_smi | str |  | the smiles string of the molecule |\n",
       "| frags | list |  | the list of fragments |\n",
       "| counter | int |  | the counter for the recursion |\n",
       "| frag_list_len | int |  | the length of the fragment list |\n",
       "| min_length | int | 0 | the minimum number of atoms in a fragment |\n",
       "| verbose | int | 0 | print fragmentation process, set verbose to 1 |\n",
       "| **Returns** | **list** |  | **the list of fragments** |"
      ],
      "text/plain": [
       "---\n",
       "\n",
       "[source](https://github.com/panukorn17/breadth-first-fragmentation/blob/main/breadth_first_fragmentation/fragmentation.py#L98){target=\"_blank\" style=\"float:right; font-size:smaller\"}\n",
       "\n",
       "### fragment_recursive\n",
       "\n",
       ">      fragment_recursive (mol_smi_orig:str, mol_smi:str, frags:list,\n",
       ">                          counter:int, frag_list_len:int, min_length:int=0,\n",
       ">                          verbose:int=0)\n",
       "\n",
       "*This recursive function fragments a molecule using the DEFRAGMO fragmentation method.*\n",
       "\n",
       "|    | **Type** | **Default** | **Details** |\n",
       "| -- | -------- | ----------- | ----------- |\n",
       "| mol_smi_orig | str |  | the original smiles string of the molecule |\n",
       "| mol_smi | str |  | the smiles string of the molecule |\n",
       "| frags | list |  | the list of fragments |\n",
       "| counter | int |  | the counter for the recursion |\n",
       "| frag_list_len | int |  | the length of the fragment list |\n",
       "| min_length | int | 0 | the minimum number of atoms in a fragment |\n",
       "| verbose | int | 0 | print fragmentation process, set verbose to 1 |\n",
       "| **Returns** | **list** |  | **the list of fragments** |"
      ]
     },
     "execution_count": null,
     "metadata": {},
     "output_type": "execute_result"
    }
   ],
   "source": [
    "show_doc(fragment_recursive)"
   ]
  },
  {
   "cell_type": "code",
   "execution_count": null,
   "metadata": {},
   "outputs": [
    {
     "name": "stdout",
     "output_type": "stream",
     "text": [
      "Head fragment:  *CCC\n",
      "Recurse tail:  N(*)(CCc1cccc(-c2ccccc2)c1)C(=O)C1OC(C(=O)O)=CC(N)C1NC(C)=O\n",
      "Tail:  *CCc1cccc(-c2ccccc2)c1\n",
      "Recurse Head:  N(*)(*)C(=O)C1OC(C(=O)O)=CC(N)C1NC(C)=O\n",
      "Head fragment:  *N(*)*\n",
      "Recurse tail:  C(*)(=O)C1OC(C(=O)O)=CC(N)C1NC(C)=O\n",
      "Head fragment:  *C(*)=O\n",
      "Recurse tail:  C1(*)OC(C(=O)O)=CC(N)C1NC(C)=O\n",
      "Head fragment:  *NC1C(N)C=C(C(=O)O)OC1*\n",
      "Recurse tail:  C(*)(C)=O\n",
      "Final Fragment:  C(*)(C)=O\n",
      "['*CCC', '*CCc1cccc(-c2ccccc2)c1', '*N(*)*', '*C(*)=O', '*NC1C(N)C=C(C(=O)O)OC1*', 'C(*)(C)=O']\n"
     ]
    }
   ],
   "source": [
    "smi = 'CCCN(CCc1cccc(-c2ccccc2)c1)C(=O)C1OC(C(=O)O)=CC(N)C1NC(C)=O'\n",
    "frags = []\n",
    "print(fragment_recursive(smi, smi, frags, 0, 0, min_length=0, verbose=1))"
   ]
  },
  {
   "cell_type": "code",
   "execution_count": null,
   "metadata": {},
   "outputs": [
    {
     "name": "stdout",
     "output_type": "stream",
     "text": [
      "Head fragment:  *CCC\n",
      "Recurse tail:  N(*)(CCc1cccc(-c2ccccc2)c1)C(=O)C1OC(C(=O)O)=CC(N)C1NC(C)=O\n",
      "Tail:  *CCc1cccc(-c2ccccc2)c1\n",
      "Recurse Head:  N(*)(*)C(=O)C1OC(C(=O)O)=CC(N)C1NC(C)=O\n",
      "Head fragment:  *C(=O)N(*)*\n",
      "Recurse tail:  C1(*)OC(C(=O)O)=CC(N)C1NC(C)=O\n",
      "Head fragment:  *NC1C(N)C=C(C(=O)O)OC1*\n",
      "Recurse tail:  C(*)(C)=O\n",
      "Final Fragment:  C(*)(C)=O\n",
      "['*CCC', '*CCc1cccc(-c2ccccc2)c1', '*C(=O)N(*)*', '*NC1C(N)C=C(C(=O)O)OC1*', 'C(*)(C)=O']\n"
     ]
    }
   ],
   "source": [
    "smi = 'CCCN(CCc1cccc(-c2ccccc2)c1)C(=O)C1OC(C(=O)O)=CC(N)C1NC(C)=O'\n",
    "frags = []\n",
    "print(fragment_recursive(smi, smi, frags, 0, 0, min_length=3, verbose=1))"
   ]
  },
  {
   "cell_type": "code",
   "execution_count": null,
   "metadata": {},
   "outputs": [
    {
     "name": "stdout",
     "output_type": "stream",
     "text": [
      "Head fragment:  *OC\n",
      "Recurse tail:  c1(*)ccc(C(=O)Nc2cc(C(C)C)c(O)c(S(=O)(=O)c3ccc(OC)cc3)c2C)cc1\n",
      "Head fragment:  *c1ccc(*)cc1\n",
      "Recurse tail:  C(*)(=O)Nc1cc(C(C)C)c(O)c(S(=O)(=O)c2ccc(OC)cc2)c1C\n",
      "Head fragment:  *C(*)=O\n",
      "Recurse tail:  N(*)c1cc(C(C)C)c(O)c(S(=O)(=O)c2ccc(OC)cc2)c1C\n",
      "Head fragment:  *N*\n",
      "Recurse tail:  c1(*)cc(C(C)C)c(O)c(S(=O)(=O)c2ccc(OC)cc2)c1C\n",
      "Tail:  *C(C)C\n",
      "Recurse Head:  c1(*)cc(*)c(O)c(S(=O)(=O)c2ccc(OC)cc2)c1C\n",
      "Head fragment:  *c1ccc(S(=O)(=O)c2c(C)c(*)cc(*)c2O)cc1\n",
      "Recurse tail:  O(*)C\n",
      "Final Fragment:  O(*)C\n",
      "['*OC', '*c1ccc(*)cc1', '*C(*)=O', '*N*', '*C(C)C', '*c1ccc(S(=O)(=O)c2c(C)c(*)cc(*)c2O)cc1', 'O(*)C']\n"
     ]
    }
   ],
   "source": [
    "smi = 'COc1ccc(C(=O)Nc2cc(C(C)C)c(O)c(S(=O)(=O)c3ccc(OC)cc3)c2C)cc1'\n",
    "frags = []\n",
    "print(fragment_recursive(smi, smi, frags, 0, 0, min_length=0, verbose=1))"
   ]
  },
  {
   "cell_type": "markdown",
   "metadata": {},
   "source": [
    "Unit Tests"
   ]
  },
  {
   "cell_type": "code",
   "execution_count": null,
   "metadata": {},
   "outputs": [],
   "source": [
    "test_eq(fragment_recursive('CCCN(CCc1cccc(-c2ccccc2)c1)C(=O)C1OC(C(=O)O)=CC(N)C1NC(C)=O', 'CCCN(CCc1cccc(-c2ccccc2)c1)C(=O)C1OC(C(=O)O)=CC(N)C1NC(C)=O', [], 0, 0, min_length=0), ['*CCC', '*CCc1cccc(-c2ccccc2)c1', '*N(*)*', '*C(*)=O', '*NC1C(N)C=C(C(=O)O)OC1*', 'C(*)(C)=O'])\n",
    "test_eq(fragment_recursive('CCCN(CCc1cccc(-c2ccccc2)c1)C(=O)C1OC(C(=O)O)=CC(N)C1NC(C)=O', 'CCCN(CCc1cccc(-c2ccccc2)c1)C(=O)C1OC(C(=O)O)=CC(N)C1NC(C)=O', [], 0, 0, min_length=3), ['*CCC', '*CCc1cccc(-c2ccccc2)c1', '*C(=O)N(*)*', '*NC1C(N)C=C(C(=O)O)OC1*', 'C(*)(C)=O'])\n",
    "test_eq(fragment_recursive('COc1ccc(C(=O)Nc2cc(C(C)C)c(O)c(S(=O)(=O)c3ccc(OC)cc3)c2C)cc1', 'COc1ccc(C(=O)Nc2cc(C(C)C)c(O)c(S(=O)(=O)c3ccc(OC)cc3)c2C)cc1', [], 0, 0, min_length=0), ['*OC', '*c1ccc(*)cc1', '*C(*)=O', '*N*', '*C(C)C', '*c1ccc(S(=O)(=O)c2c(C)c(*)cc(*)c2O)cc1', 'O(*)C'])"
   ]
  },
  {
   "cell_type": "code",
   "execution_count": null,
   "metadata": {},
   "outputs": [],
   "source": [
    "#| export\n",
    "def break_into_fragments_defragmo(mol:Chem.rdchem.Mol, # the molecule object\n",
    "                                  smi:str, # the smiles string of the molecule\n",
    "                                  min_length: int=0, # the minimum number of atoms in a fragment\n",
    "                                  verbose:int=0, # print fragmentation process, set verbose to 1\n",
    "                                  )->tuple: # a tuple containing the original smiles, the fragmented smiles, and the number of fragments\n",
    "    'This function breaks a molecule into fragments using the DEFRAGMO fragmentation method.'\n",
    "    frags = []\n",
    "    fragment_recursive(smi, smi, frags, 0, 0, min_length=min_length, verbose=verbose)\n",
    "\n",
    "    # if no fragments are found\n",
    "    if len(frags) == 0:\n",
    "        return smi, np.nan, 0\n",
    "\n",
    "    # if only one fragment is found\n",
    "    if len(frags) == 1:\n",
    "        return smi, smi, 1\n",
    "    \n",
    "    return smi, ' '.join(frags), len(frags)"
   ]
  },
  {
   "cell_type": "code",
   "execution_count": null,
   "metadata": {},
   "outputs": [
    {
     "data": {
      "text/markdown": [
       "---\n",
       "\n",
       "[source](https://github.com/panukorn17/breadth-first-fragmentation/blob/main/breadth_first_fragmentation/fragmentation.py#L182){target=\"_blank\" style=\"float:right; font-size:smaller\"}\n",
       "\n",
       "### break_into_fragments_defragmo\n",
       "\n",
       ">      break_into_fragments_defragmo (mol:rdkit.Chem.rdchem.Mol, smi:str,\n",
       ">                                     min_length:int=0, verbose:int=0)\n",
       "\n",
       "*This function breaks a molecule into fragments using the DEFRAGMO fragmentation method.*\n",
       "\n",
       "|    | **Type** | **Default** | **Details** |\n",
       "| -- | -------- | ----------- | ----------- |\n",
       "| mol | Mol |  | the molecule object |\n",
       "| smi | str |  | the smiles string of the molecule |\n",
       "| min_length | int | 0 | the minimum number of atoms in a fragment |\n",
       "| verbose | int | 0 | print fragmentation process, set verbose to 1 |\n",
       "| **Returns** | **tuple** |  | **a tuple containing the original smiles, the fragmented smiles, and the number of fragments** |"
      ],
      "text/plain": [
       "---\n",
       "\n",
       "[source](https://github.com/panukorn17/breadth-first-fragmentation/blob/main/breadth_first_fragmentation/fragmentation.py#L182){target=\"_blank\" style=\"float:right; font-size:smaller\"}\n",
       "\n",
       "### break_into_fragments_defragmo\n",
       "\n",
       ">      break_into_fragments_defragmo (mol:rdkit.Chem.rdchem.Mol, smi:str,\n",
       ">                                     min_length:int=0, verbose:int=0)\n",
       "\n",
       "*This function breaks a molecule into fragments using the DEFRAGMO fragmentation method.*\n",
       "\n",
       "|    | **Type** | **Default** | **Details** |\n",
       "| -- | -------- | ----------- | ----------- |\n",
       "| mol | Mol |  | the molecule object |\n",
       "| smi | str |  | the smiles string of the molecule |\n",
       "| min_length | int | 0 | the minimum number of atoms in a fragment |\n",
       "| verbose | int | 0 | print fragmentation process, set verbose to 1 |\n",
       "| **Returns** | **tuple** |  | **a tuple containing the original smiles, the fragmented smiles, and the number of fragments** |"
      ]
     },
     "execution_count": null,
     "metadata": {},
     "output_type": "execute_result"
    }
   ],
   "source": [
    "show_doc(break_into_fragments_defragmo)"
   ]
  },
  {
   "cell_type": "code",
   "execution_count": null,
   "metadata": {},
   "outputs": [
    {
     "name": "stdout",
     "output_type": "stream",
     "text": [
      "Head fragment:  *CCC\n",
      "Recurse tail:  N(*)(CCc1cccc(-c2ccccc2)c1)C(=O)C1OC(C(=O)O)=CC(N)C1NC(C)=O\n",
      "Tail:  *CCc1cccc(-c2ccccc2)c1\n",
      "Recurse Head:  N(*)(*)C(=O)C1OC(C(=O)O)=CC(N)C1NC(C)=O\n",
      "Head fragment:  *N(*)*\n",
      "Recurse tail:  C(*)(=O)C1OC(C(=O)O)=CC(N)C1NC(C)=O\n",
      "Head fragment:  *C(*)=O\n",
      "Recurse tail:  C1(*)OC(C(=O)O)=CC(N)C1NC(C)=O\n",
      "Head fragment:  *NC1C(N)C=C(C(=O)O)OC1*\n",
      "Recurse tail:  C(*)(C)=O\n",
      "Final Fragment:  C(*)(C)=O\n"
     ]
    },
    {
     "data": {
      "text/plain": [
       "('CCCN(CCc1cccc(-c2ccccc2)c1)C(=O)C1OC(C(=O)O)=CC(N)C1NC(C)=O',\n",
       " '*CCC *CCc1cccc(-c2ccccc2)c1 *N(*)* *C(*)=O *NC1C(N)C=C(C(=O)O)OC1* C(*)(C)=O',\n",
       " 6)"
      ]
     },
     "execution_count": null,
     "metadata": {},
     "output_type": "execute_result"
    }
   ],
   "source": [
    "smi = 'CCCN(CCc1cccc(-c2ccccc2)c1)C(=O)C1OC(C(=O)O)=CC(N)C1NC(C)=O'\n",
    "mol = mol_from_smiles(smi)\n",
    "break_into_fragments_defragmo(mol, smi, min_length=0, verbose=1)"
   ]
  },
  {
   "cell_type": "code",
   "execution_count": null,
   "metadata": {},
   "outputs": [
    {
     "name": "stdout",
     "output_type": "stream",
     "text": [
      "Head fragment:  *CCC\n",
      "Recurse tail:  N(*)(CCc1cccc(-c2ccccc2)c1)C(=O)C1OC(C(=O)O)=CC(N)C1NC(C)=O\n",
      "Tail:  *CCc1cccc(-c2ccccc2)c1\n",
      "Recurse Head:  N(*)(*)C(=O)C1OC(C(=O)O)=CC(N)C1NC(C)=O\n",
      "Head fragment:  *C(=O)N(*)*\n",
      "Recurse tail:  C1(*)OC(C(=O)O)=CC(N)C1NC(C)=O\n",
      "Head fragment:  *NC1C(N)C=C(C(=O)O)OC1*\n",
      "Recurse tail:  C(*)(C)=O\n",
      "Final Fragment:  C(*)(C)=O\n"
     ]
    },
    {
     "data": {
      "text/plain": [
       "('CCCN(CCc1cccc(-c2ccccc2)c1)C(=O)C1OC(C(=O)O)=CC(N)C1NC(C)=O',\n",
       " '*CCC *CCc1cccc(-c2ccccc2)c1 *C(=O)N(*)* *NC1C(N)C=C(C(=O)O)OC1* C(*)(C)=O',\n",
       " 5)"
      ]
     },
     "execution_count": null,
     "metadata": {},
     "output_type": "execute_result"
    }
   ],
   "source": [
    "smi = 'CCCN(CCc1cccc(-c2ccccc2)c1)C(=O)C1OC(C(=O)O)=CC(N)C1NC(C)=O'\n",
    "mol = mol_from_smiles(smi)\n",
    "break_into_fragments_defragmo(mol, smi, min_length=3, verbose=1)"
   ]
  },
  {
   "cell_type": "code",
   "execution_count": null,
   "metadata": {},
   "outputs": [
    {
     "name": "stdout",
     "output_type": "stream",
     "text": [
      "Head fragment:  *c1c(C)cccc1C\n",
      "Recurse tail:  N(*)C(=O)C[NH+]1CCC(OCc2ccc(F)cc2)CC1\n",
      "Head fragment:  *N*\n",
      "Recurse tail:  C(*)(=O)C[NH+]1CCC(OCc2ccc(F)cc2)CC1\n",
      "Head fragment:  *CC(*)=O\n",
      "Recurse tail:  [NH+]1(*)CCC(OCc2ccc(F)cc2)CC1\n",
      "Head fragment:  *C1CC[NH+](*)CC1\n",
      "Recurse tail:  O(*)Cc1ccc(F)cc1\n",
      "Head fragment:  *O*\n",
      "Recurse tail:  C(*)c1ccc(F)cc1\n",
      "Head fragment:  *C*\n",
      "Recurse tail:  c1(*)ccc(F)cc1\n",
      "Final Fragment:  c1(*)ccc(F)cc1\n"
     ]
    },
    {
     "data": {
      "text/plain": [
       "('Cc1cccc(C)c1NC(=O)C[NH+]1CCC(OCc2ccc(F)cc2)CC1',\n",
       " '*c1c(C)cccc1C *N* *CC(*)=O *C1CC[NH+](*)CC1 *O* *C* c1(*)ccc(F)cc1',\n",
       " 7)"
      ]
     },
     "execution_count": null,
     "metadata": {},
     "output_type": "execute_result"
    }
   ],
   "source": [
    "smi = 'Cc1cccc(C)c1NC(=O)C[NH+]1CCC(OCc2ccc(F)cc2)CC1'\n",
    "mol = mol_from_smiles(smi)\n",
    "break_into_fragments_defragmo(mol, smi, min_length=0, verbose=1)\n"
   ]
  },
  {
   "cell_type": "code",
   "execution_count": null,
   "metadata": {},
   "outputs": [
    {
     "name": "stdout",
     "output_type": "stream",
     "text": [
      "Head fragment:  *c1c(C)cccc1C\n",
      "Recurse tail:  N(*)C(=O)C[NH+]1CCC(OCc2ccc(F)cc2)CC1\n",
      "Head fragment:  *CC(=O)N*\n",
      "Recurse tail:  [NH+]1(*)CCC(OCc2ccc(F)cc2)CC1\n",
      "Head fragment:  *C1CC[NH+](*)CC1\n",
      "Recurse tail:  O(*)Cc1ccc(F)cc1\n",
      "Final Fragment:  O(*)Cc1ccc(F)cc1\n"
     ]
    },
    {
     "data": {
      "text/plain": [
       "('Cc1cccc(C)c1NC(=O)C[NH+]1CCC(OCc2ccc(F)cc2)CC1',\n",
       " '*c1c(C)cccc1C *CC(=O)N* *C1CC[NH+](*)CC1 O(*)Cc1ccc(F)cc1',\n",
       " 4)"
      ]
     },
     "execution_count": null,
     "metadata": {},
     "output_type": "execute_result"
    }
   ],
   "source": [
    "smi = 'Cc1cccc(C)c1NC(=O)C[NH+]1CCC(OCc2ccc(F)cc2)CC1'\n",
    "mol = mol_from_smiles(smi)\n",
    "break_into_fragments_defragmo(mol, smi, min_length=3, verbose=1)"
   ]
  },
  {
   "cell_type": "markdown",
   "metadata": {},
   "source": [
    "Unit Tests"
   ]
  },
  {
   "cell_type": "code",
   "execution_count": null,
   "metadata": {},
   "outputs": [],
   "source": [
    "test_eq(break_into_fragments_defragmo(mol_from_smiles('CCCN(CCc1cccc(-c2ccccc2)c1)C(=O)C1OC(C(=O)O)=CC(N)C1NC(C)=O'),'CCCN(CCc1cccc(-c2ccccc2)c1)C(=O)C1OC(C(=O)O)=CC(N)C1NC(C)=O'), ('CCCN(CCc1cccc(-c2ccccc2)c1)C(=O)C1OC(C(=O)O)=CC(N)C1NC(C)=O', '*CCC *CCc1cccc(-c2ccccc2)c1 *N(*)* *C(*)=O *NC1C(N)C=C(C(=O)O)OC1* C(*)(C)=O', 6))\n",
    "test_eq(break_into_fragments_defragmo(mol_from_smiles('CCCN(CCc1cccc(-c2ccccc2)c1)C(=O)C1OC(C(=O)O)=CC(N)C1NC(C)=O'),'CCCN(CCc1cccc(-c2ccccc2)c1)C(=O)C1OC(C(=O)O)=CC(N)C1NC(C)=O', min_length=3), ('CCCN(CCc1cccc(-c2ccccc2)c1)C(=O)C1OC(C(=O)O)=CC(N)C1NC(C)=O', '*CCC *CCc1cccc(-c2ccccc2)c1 *C(=O)N(*)* *NC1C(N)C=C(C(=O)O)OC1* C(*)(C)=O', 5))\n",
    "test_eq(break_into_fragments_defragmo(mol_from_smiles('Cc1cccc(C)c1NC(=O)C[NH+]1CCC(OCc2ccc(F)cc2)CC1'),'Cc1cccc(C)c1NC(=O)C[NH+]1CCC(OCc2ccc(F)cc2)CC1'), ('Cc1cccc(C)c1NC(=O)C[NH+]1CCC(OCc2ccc(F)cc2)CC1', '*c1c(C)cccc1C *N* *CC(*)=O *C1CC[NH+](*)CC1 *O* *C* c1(*)ccc(F)cc1', 7))\n",
    "test_eq(break_into_fragments_defragmo(mol_from_smiles('Cc1cccc(C)c1NC(=O)C[NH+]1CCC(OCc2ccc(F)cc2)CC1'),'Cc1cccc(C)c1NC(=O)C[NH+]1CCC(OCc2ccc(F)cc2)CC1', min_length=3), ('Cc1cccc(C)c1NC(=O)C[NH+]1CCC(OCc2ccc(F)cc2)CC1', '*c1c(C)cccc1C *CC(=O)N* *C1CC[NH+](*)CC1 O(*)Cc1ccc(F)cc1', 4))"
   ]
  },
  {
   "cell_type": "code",
   "execution_count": null,
   "metadata": {},
   "outputs": [],
   "source": [
    "#| hide\n",
    "import nbdev; nbdev.nbdev_export()"
   ]
  }
 ],
 "metadata": {
  "kernelspec": {
   "display_name": "python3",
   "language": "python",
   "name": "python3"
  }
 },
 "nbformat": 4,
 "nbformat_minor": 2
}
